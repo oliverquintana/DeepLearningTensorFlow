{
  "nbformat": 4,
  "nbformat_minor": 0,
  "metadata": {
    "colab": {
      "name": "CNN.ipynb",
      "version": "0.3.2",
      "provenance": [],
      "collapsed_sections": [],
      "include_colab_link": true
    },
    "kernelspec": {
      "name": "python3",
      "display_name": "Python 3"
    },
    "accelerator": "GPU"
  },
  "cells": [
    {
      "cell_type": "markdown",
      "metadata": {
        "id": "view-in-github",
        "colab_type": "text"
      },
      "source": [
        "<a href=\"https://colab.research.google.com/github/oliverquintana/DeepLearningTensorFlow/blob/master/CNN.ipynb\" target=\"_parent\"><img src=\"https://colab.research.google.com/assets/colab-badge.svg\" alt=\"Open In Colab\"/></a>"
      ]
    },
    {
      "cell_type": "markdown",
      "metadata": {
        "id": "RJq_Z-7drUP6",
        "colab_type": "text"
      },
      "source": [
        "# Redes Neuronales Convolucionales"
      ]
    },
    {
      "cell_type": "markdown",
      "metadata": {
        "id": "IvFejJb5hiRX",
        "colab_type": "text"
      },
      "source": [
        "# FASHION_MNIST CNN"
      ]
    },
    {
      "cell_type": "markdown",
      "metadata": {
        "id": "Czc7XFMwrtN6",
        "colab_type": "text"
      },
      "source": [
        "Importar librerías y dataset"
      ]
    },
    {
      "cell_type": "code",
      "metadata": {
        "id": "S4chVzhQrrkR",
        "colab_type": "code",
        "colab": {}
      },
      "source": [
        "import matplotlib.pyplot as plt\n",
        "import tensorflow as tf\n",
        "from tensorflow import keras\n",
        "\n",
        "\n",
        "mnist = keras.datasets.fashion_mnist\n",
        "(train_images, train_labels), (test_images, test_labels) = mnist.load_data()"
      ],
      "execution_count": 0,
      "outputs": []
    },
    {
      "cell_type": "markdown",
      "metadata": {
        "id": "TqNuHkO-r6YG",
        "colab_type": "text"
      },
      "source": [
        "Para realizar la convolución, es necesario redimensionar los datos de entrada de,60000 28x28x1 a una sola estructura de 4 dimensiones, siendo 60000x28x28x1. Lo mismo se hace para el conjunto de validación."
      ]
    },
    {
      "cell_type": "code",
      "metadata": {
        "id": "MK4fq9OQr3lm",
        "colab_type": "code",
        "colab": {}
      },
      "source": [
        "train_images = train_images.reshape(60000, 28, 28, 1)\n",
        "test_images = test_images.reshape(10000, 28, 28, 1)"
      ],
      "execution_count": 0,
      "outputs": []
    },
    {
      "cell_type": "markdown",
      "metadata": {
        "id": "ZC2gVJ2hsTRO",
        "colab_type": "text"
      },
      "source": [
        "Normalización del rango 0-255 a 0-1"
      ]
    },
    {
      "cell_type": "code",
      "metadata": {
        "id": "UhzEtnGIsScP",
        "colab_type": "code",
        "colab": {}
      },
      "source": [
        "train_images_normalized = train_images / 255\n",
        "test_images_normalized = test_images / 255"
      ],
      "execution_count": 0,
      "outputs": []
    },
    {
      "cell_type": "markdown",
      "metadata": {
        "id": "uLvNYJ_fsy0X",
        "colab_type": "text"
      },
      "source": [
        "# Entrenamiento de la CNN\n",
        "Se agregan, para este caso, 4 capas al inicio de la red:\n",
        "\n",
        "\n",
        "*   2 capas de convolución\n",
        "*   2 capas de pooling\n",
        "\n",
        "\n"
      ]
    },
    {
      "cell_type": "code",
      "metadata": {
        "id": "VsKqiD0As_6a",
        "colab_type": "code",
        "colab": {
          "base_uri": "https://localhost:8080/",
          "height": 107
        },
        "outputId": "ebd32e86-7a8c-413c-9050-8d8907041324"
      },
      "source": [
        "model = keras.models.Sequential([keras.layers.Conv2D(64, (3,3), activation = \"relu\", input_shape = (28,28,1)),\n",
        "                                 keras.layers.MaxPooling2D(2,2),\n",
        "                                 keras.layers.Conv2D(64, (3,3), activation = \"relu\"),\n",
        "                                 keras.layers.MaxPooling2D(2,2),\n",
        "                                 keras.layers.Flatten(),\n",
        "                                 keras.layers.Dense(128, activation = tf.nn.relu),\n",
        "                                 keras.layers.Dense( 10, activation = tf.nn.softmax)])\n",
        "\n",
        "model.compile(optimizer = tf.train.AdamOptimizer(),\n",
        "              loss = \"sparse_categorical_crossentropy\",\n",
        "              metrics = [\"accuracy\"])"
      ],
      "execution_count": 4,
      "outputs": [
        {
          "output_type": "stream",
          "text": [
            "WARNING: Logging before flag parsing goes to stderr.\n",
            "W0621 17:57:21.242079 140343206623104 deprecation.py:506] From /usr/local/lib/python3.6/dist-packages/tensorflow/python/ops/init_ops.py:1251: calling VarianceScaling.__init__ (from tensorflow.python.ops.init_ops) with dtype is deprecated and will be removed in a future version.\n",
            "Instructions for updating:\n",
            "Call initializer instance with the dtype argument instead of passing it to the constructor\n"
          ],
          "name": "stderr"
        }
      ]
    },
    {
      "cell_type": "markdown",
      "metadata": {
        "id": "8bhexuXfturf",
        "colab_type": "text"
      },
      "source": [
        "Se muestra el recorrido de la imagen a traves de las capas de la red neuronal."
      ]
    },
    {
      "cell_type": "code",
      "metadata": {
        "id": "vFHE46HctrAy",
        "colab_type": "code",
        "outputId": "d7d4da14-3f50-4c77-b83a-b64acf062ac4",
        "colab": {
          "base_uri": "https://localhost:8080/",
          "height": 407
        }
      },
      "source": [
        "model.summary()"
      ],
      "execution_count": 5,
      "outputs": [
        {
          "output_type": "stream",
          "text": [
            "Model: \"sequential\"\n",
            "_________________________________________________________________\n",
            "Layer (type)                 Output Shape              Param #   \n",
            "=================================================================\n",
            "conv2d (Conv2D)              (None, 26, 26, 64)        640       \n",
            "_________________________________________________________________\n",
            "max_pooling2d (MaxPooling2D) (None, 13, 13, 64)        0         \n",
            "_________________________________________________________________\n",
            "conv2d_1 (Conv2D)            (None, 11, 11, 64)        36928     \n",
            "_________________________________________________________________\n",
            "max_pooling2d_1 (MaxPooling2 (None, 5, 5, 64)          0         \n",
            "_________________________________________________________________\n",
            "flatten (Flatten)            (None, 1600)              0         \n",
            "_________________________________________________________________\n",
            "dense (Dense)                (None, 128)               204928    \n",
            "_________________________________________________________________\n",
            "dense_1 (Dense)              (None, 10)                1290      \n",
            "=================================================================\n",
            "Total params: 243,786\n",
            "Trainable params: 243,786\n",
            "Non-trainable params: 0\n",
            "_________________________________________________________________\n"
          ],
          "name": "stdout"
        }
      ]
    },
    {
      "cell_type": "code",
      "metadata": {
        "id": "_rAAmTNhxayg",
        "colab_type": "code",
        "outputId": "f110d12e-6cd6-4b2f-e499-5fd5dcdfbcce",
        "colab": {
          "base_uri": "https://localhost:8080/",
          "height": 407
        }
      },
      "source": [
        "model.fit(train_images_normalized, train_labels, epochs = 10)\n",
        "model.evaluate(test_images_normalized, test_labels)"
      ],
      "execution_count": 6,
      "outputs": [
        {
          "output_type": "stream",
          "text": [
            "Epoch 1/10\n",
            "60000/60000 [==============================] - 7s 124us/sample - loss: 0.4321 - acc: 0.8437\n",
            "Epoch 2/10\n",
            "60000/60000 [==============================] - 5s 91us/sample - loss: 0.2875 - acc: 0.8949\n",
            "Epoch 3/10\n",
            "60000/60000 [==============================] - 5s 89us/sample - loss: 0.2457 - acc: 0.9092\n",
            "Epoch 4/10\n",
            "60000/60000 [==============================] - 5s 88us/sample - loss: 0.2144 - acc: 0.9204\n",
            "Epoch 5/10\n",
            "60000/60000 [==============================] - 5s 88us/sample - loss: 0.1870 - acc: 0.9302\n",
            "Epoch 6/10\n",
            "60000/60000 [==============================] - 5s 87us/sample - loss: 0.1641 - acc: 0.9383\n",
            "Epoch 7/10\n",
            "60000/60000 [==============================] - 5s 87us/sample - loss: 0.1443 - acc: 0.9463\n",
            "Epoch 8/10\n",
            "60000/60000 [==============================] - 5s 88us/sample - loss: 0.1272 - acc: 0.9520\n",
            "Epoch 9/10\n",
            "60000/60000 [==============================] - 5s 86us/sample - loss: 0.1115 - acc: 0.9583\n",
            "Epoch 10/10\n",
            "60000/60000 [==============================] - 5s 87us/sample - loss: 0.0973 - acc: 0.9630\n",
            "10000/10000 [==============================] - 1s 55us/sample - loss: 0.3294 - acc: 0.9109\n"
          ],
          "name": "stdout"
        },
        {
          "output_type": "execute_result",
          "data": {
            "text/plain": [
              "[0.32944562709331515, 0.9109]"
            ]
          },
          "metadata": {
            "tags": []
          },
          "execution_count": 6
        }
      ]
    },
    {
      "cell_type": "markdown",
      "metadata": {
        "id": "75Laygwkhmiq",
        "colab_type": "text"
      },
      "source": [
        "# MNIST CNN"
      ]
    },
    {
      "cell_type": "code",
      "metadata": {
        "id": "0puuzvNTc7kC",
        "colab_type": "code",
        "colab": {
          "base_uri": "https://localhost:8080/",
          "height": 727
        },
        "outputId": "71d34a97-8237-4bd3-9e32-1606bfa61c65"
      },
      "source": [
        "import tensorflow as tf\n",
        "from tensorflow import keras\n",
        "\n",
        "mnist = tf.keras.datasets.mnist\n",
        "\n",
        "(x_train, y_train),(x_test, y_test) = mnist.load_data()\n",
        "\n",
        "x_train = x_train.reshape(60000, 28, 28, 1)\n",
        "x_test = x_test.reshape(10000, 28, 28, 1)\n",
        "\n",
        "x_train_reg = x_train / 255\n",
        "x_test_reg = x_test / 255\n",
        "\n",
        "\n",
        "model = tf.keras.models.Sequential([keras.layers.Conv2D(64, (4,4), activation = \"relu\", input_shape = (28,28,1)),\n",
        "                                    keras.layers.MaxPooling2D(2,2),\n",
        "                                    keras.layers.Flatten(input_shape = (28, 28)),\n",
        "                                    keras.layers.Dense(128, activation = tf.nn.relu),\n",
        "                                    keras.layers.Dense( 10, activation = tf.nn.softmax)])\n",
        "\n",
        "model.compile(optimizer='adam',\n",
        "              loss='sparse_categorical_crossentropy',\n",
        "              metrics=['accuracy'])\n",
        "model.summary()\n",
        "model.fit(x_train_reg, y_train, epochs = 10)\n",
        "model.evaluate(x_test_reg, y_test)"
      ],
      "execution_count": 7,
      "outputs": [
        {
          "output_type": "stream",
          "text": [
            "Model: \"sequential_1\"\n",
            "_________________________________________________________________\n",
            "Layer (type)                 Output Shape              Param #   \n",
            "=================================================================\n",
            "conv2d_2 (Conv2D)            (None, 25, 25, 64)        1088      \n",
            "_________________________________________________________________\n",
            "max_pooling2d_2 (MaxPooling2 (None, 12, 12, 64)        0         \n",
            "_________________________________________________________________\n",
            "flatten_1 (Flatten)          (None, 9216)              0         \n",
            "_________________________________________________________________\n",
            "dense_2 (Dense)              (None, 128)               1179776   \n",
            "_________________________________________________________________\n",
            "dense_3 (Dense)              (None, 10)                1290      \n",
            "=================================================================\n",
            "Total params: 1,182,154\n",
            "Trainable params: 1,182,154\n",
            "Non-trainable params: 0\n",
            "_________________________________________________________________\n",
            "Epoch 1/10\n",
            "60000/60000 [==============================] - 5s 89us/sample - loss: 0.1214 - acc: 0.9636\n",
            "Epoch 2/10\n",
            "60000/60000 [==============================] - 5s 85us/sample - loss: 0.0423 - acc: 0.9870\n",
            "Epoch 3/10\n",
            "60000/60000 [==============================] - 5s 86us/sample - loss: 0.0258 - acc: 0.9918\n",
            "Epoch 4/10\n",
            "60000/60000 [==============================] - 5s 85us/sample - loss: 0.0172 - acc: 0.9947\n",
            "Epoch 5/10\n",
            "60000/60000 [==============================] - 5s 83us/sample - loss: 0.0121 - acc: 0.9961\n",
            "Epoch 6/10\n",
            "60000/60000 [==============================] - 5s 86us/sample - loss: 0.0094 - acc: 0.9971\n",
            "Epoch 7/10\n",
            "60000/60000 [==============================] - 5s 87us/sample - loss: 0.0069 - acc: 0.9976\n",
            "Epoch 8/10\n",
            "60000/60000 [==============================] - 5s 85us/sample - loss: 0.0064 - acc: 0.9977\n",
            "Epoch 9/10\n",
            "60000/60000 [==============================] - 5s 86us/sample - loss: 0.0052 - acc: 0.9983\n",
            "Epoch 10/10\n",
            "60000/60000 [==============================] - 5s 84us/sample - loss: 0.0042 - acc: 0.9986\n",
            "10000/10000 [==============================] - 1s 51us/sample - loss: 0.0539 - acc: 0.9886\n"
          ],
          "name": "stdout"
        },
        {
          "output_type": "execute_result",
          "data": {
            "text/plain": [
              "[0.053922843582532416, 0.9886]"
            ]
          },
          "metadata": {
            "tags": []
          },
          "execution_count": 7
        }
      ]
    }
  ]
}