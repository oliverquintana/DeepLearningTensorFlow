{
  "nbformat": 4,
  "nbformat_minor": 0,
  "metadata": {
    "colab": {
      "name": "Copy of TumorCNN.ipynb",
      "provenance": [],
      "collapsed_sections": [],
      "machine_shape": "hm",
      "include_colab_link": true
    },
    "kernelspec": {
      "name": "python3",
      "display_name": "Python 3"
    },
    "accelerator": "GPU"
  },
  "cells": [
    {
      "cell_type": "markdown",
      "metadata": {
        "id": "view-in-github",
        "colab_type": "text"
      },
      "source": [
        "<a href=\"https://colab.research.google.com/github/oliverquintana/DeepLearningTensorFlow/blob/master/Copy_of_TumorCNN.ipynb\" target=\"_parent\"><img src=\"https://colab.research.google.com/assets/colab-badge.svg\" alt=\"Open In Colab\"/></a>"
      ]
    },
    {
      "cell_type": "code",
      "metadata": {
        "id": "GCMiaO86QKE-",
        "colab_type": "code",
        "outputId": "f4ee3ea6-2489-4127-b2bf-ec7504fa71f1",
        "colab": {
          "base_uri": "https://localhost:8080/",
          "height": 122
        }
      },
      "source": [
        "from google.colab import drive\n",
        "drive.mount('/content/drive')"
      ],
      "execution_count": 1,
      "outputs": [
        {
          "output_type": "stream",
          "text": [
            "Go to this URL in a browser: https://accounts.google.com/o/oauth2/auth?client_id=947318989803-6bn6qk8qdgf4n4g3pfee6491hc0brc4i.apps.googleusercontent.com&redirect_uri=urn%3aietf%3awg%3aoauth%3a2.0%3aoob&response_type=code&scope=email%20https%3a%2f%2fwww.googleapis.com%2fauth%2fdocs.test%20https%3a%2f%2fwww.googleapis.com%2fauth%2fdrive%20https%3a%2f%2fwww.googleapis.com%2fauth%2fdrive.photos.readonly%20https%3a%2f%2fwww.googleapis.com%2fauth%2fpeopleapi.readonly\n",
            "\n",
            "Enter your authorization code:\n",
            "··········\n",
            "Mounted at /content/drive\n"
          ],
          "name": "stdout"
        }
      ]
    },
    {
      "cell_type": "code",
      "metadata": {
        "colab_type": "code",
        "id": "dUeZPu2xOJka",
        "colab": {}
      },
      "source": [
        "from os import listdir\n",
        "from os.path import isfile, join\n",
        "import numpy as np\n",
        "import cv2\n",
        "\n",
        "path_images = '/content/drive/My Drive/Dataset MRI/tumor_images'\n",
        "path_masks = '/content/drive/My Drive/Dataset MRI/tumor_masks'\n",
        "path_images_val = '/content/drive/My Drive/Dataset MRI/tumor_images_val/'\n",
        "path_masks_val = '/content/drive/My Drive/Dataset MRI/tumor_masks_val/'\n",
        "\n",
        "def get_images(mypath):\n",
        "    onlyfiles = [ f for f in listdir(mypath) if isfile(join(mypath,f)) ]\n",
        "    onlyfiles.sort()\n",
        "    images = np.empty(len(onlyfiles), dtype=object)\n",
        "    images = np.zeros((len(onlyfiles),256,256))\n",
        "    print(len(onlyfiles))\n",
        "    for n in range(len(onlyfiles)):\n",
        "        images[n] = cv2.imread( join(mypath,onlyfiles[n]), 0)\n",
        "\n",
        "    return images\n",
        "\n",
        "def get_labels(array):\n",
        "    labels = []\n",
        "    for i in array:\n",
        "        if np.max(i) > 0:\n",
        "            labels.append(1)\n",
        "        else:\n",
        "            labels.append(0)\n",
        "    \n",
        "    return np.array(labels)"
      ],
      "execution_count": 0,
      "outputs": []
    },
    {
      "cell_type": "code",
      "metadata": {
        "colab_type": "code",
        "id": "X4mDARNKOOHs",
        "colab": {}
      },
      "source": [
        "from os import listdir\n",
        "from os.path import isfile, join\n",
        "import numpy as np\n",
        "import cv2\n",
        "\n",
        "path_images = '/content/drive/My Drive/Dataset MRI/tumor_images/'\n",
        "path_masks = '/content/drive/My Drive/Dataset MRI/tumor_masks'\n",
        "\n",
        "def get_images(mypath):\n",
        "    onlyfiles = [ f for f in listdir(mypath) if isfile(join(mypath,f)) ]\n",
        "    onlyfiles.sort()\n",
        "    images = np.empty(len(onlyfiles), dtype=object)\n",
        "    images = np.zeros((len(onlyfiles),256,256))\n",
        "    #print(len(onlyfiles))\n",
        "    for n in range(len(onlyfiles)):\n",
        "        temp = str(onlyfiles[n])\n",
        "        if temp.endswith(\".tif\"):\n",
        "            print(temp)\n",
        "        images[n] = cv2.imread( join(mypath,onlyfiles[n]), 0)\n",
        "\n",
        "    return\n",
        "\n",
        "def get_labels(array):\n",
        "    labels = []\n",
        "    for i in array:\n",
        "        if np.max(i) > 0:\n",
        "            labels.append(1)\n",
        "        else:\n",
        "            labels.append(0)\n",
        "    \n",
        "    return np.array(labels)"
      ],
      "execution_count": 0,
      "outputs": []
    },
    {
      "cell_type": "code",
      "metadata": {
        "id": "ztF1gWszt3Q1",
        "colab_type": "code",
        "colab": {
          "base_uri": "https://localhost:8080/",
          "height": 85
        },
        "outputId": "a6b12a26-85db-4ffd-e8b9-357edf4a5466"
      },
      "source": [
        "#print(get_images(path_images))\n",
        "#get_images(path_images)\n",
        "training_images = get_images(path_images)\n",
        "training_images = training_images[0:22]\n",
        "training_masks = get_images(path_masks)\n",
        "training_masks = training_masks[0:22]\n",
        "training_labels = get_labels(training_masks)\n",
        "training_labels = training_labels[0:22]\n",
        "validation_images = get_images(path_images_val)\n",
        "validation_masks = get_images(path_masks_val)\n",
        "validation_labels = get_labels(validation_masks)"
      ],
      "execution_count": 106,
      "outputs": [
        {
          "output_type": "stream",
          "text": [
            "63\n",
            "63\n",
            "20\n",
            "20\n"
          ],
          "name": "stdout"
        }
      ]
    },
    {
      "cell_type": "code",
      "metadata": {
        "id": "1whpXMMao6O2",
        "colab_type": "code",
        "colab": {
          "base_uri": "https://localhost:8080/",
          "height": 51
        },
        "outputId": "feb38d17-1b13-4b3f-fbe1-15509a04aa33"
      },
      "source": [
        "print(validation_images.shape)\n",
        "print(validation_masks.shape)"
      ],
      "execution_count": 107,
      "outputs": [
        {
          "output_type": "stream",
          "text": [
            "(20, 256, 256)\n",
            "(20, 256, 256)\n"
          ],
          "name": "stdout"
        }
      ]
    },
    {
      "cell_type": "code",
      "metadata": {
        "id": "dHrhBR8GgQ2f",
        "colab_type": "code",
        "outputId": "0bd8ad29-72db-494f-e2c0-88eab418a200",
        "colab": {
          "base_uri": "https://localhost:8080/",
          "height": 290
        }
      },
      "source": [
        "from google.colab.patches import cv2_imshow\n",
        "cv2_imshow(training_images[9])\n",
        "\n",
        "training_labels = get_labels(training_masks)\n",
        "print(training_labels[9])"
      ],
      "execution_count": 109,
      "outputs": [
        {
          "output_type": "display_data",
          "data": {
            "image/png": "[encoded data removed]",
            "text/plain": [
              "<PIL.Image.Image image mode=L size=256x256 at 0x7F735EC754E0>"
            ]
          },
          "metadata": {
            "tags": []
          }
        },
        {
          "output_type": "stream",
          "text": [
            "1\n"
          ],
          "name": "stdout"
        }
      ]
    },
    {
      "cell_type": "code",
      "metadata": {
        "id": "__IAZLmiC5nR",
        "colab_type": "code",
        "outputId": "1e78907e-2ecb-4dec-9910-e8d3b23805be",
        "colab": {
          "base_uri": "https://localhost:8080/",
          "height": 51
        }
      },
      "source": [
        "training_images_r = training_images.reshape(len(training_images), 256, 256, 1)\n",
        "validation_images_r = validation_images.reshape(len(validation_images), 256, 256, 1)\n",
        "print(training_labels.shape)\n",
        "print(training_images.shape)\n",
        "#training_labels = training_labels.reshape(len(training_labels), 65536,1)"
      ],
      "execution_count": 110,
      "outputs": [
        {
          "output_type": "stream",
          "text": [
            "(22,)\n",
            "(22, 256, 256)\n"
          ],
          "name": "stdout"
        }
      ]
    },
    {
      "cell_type": "code",
      "metadata": {
        "id": "uyt-rWTaqgWA",
        "colab_type": "code",
        "colab": {}
      },
      "source": [
        "import tensorflow as tf\n",
        "\n",
        "model = tf.keras.models.Sequential([tf.keras.layers.Conv2D(64, (5,5), activation = 'relu', input_shape = (256, 256, 1)),\n",
        "                                    tf.keras.layers.MaxPooling2D(3,3),\n",
        "                                    tf.keras.layers.Conv2D(32, (3,3), activation = 'relu'),\n",
        "                                    tf.keras.layers.MaxPooling2D(2,2),\n",
        "                                    tf.keras.layers.Flatten(),\n",
        "                                    tf.keras.layers.Dense(64, activation = 'relu'),\n",
        "                                    tf.keras.layers.Dense(64, activation = 'relu'),\n",
        "                                    tf.keras.layers.Dense(32, activation = 'relu'),\n",
        "                                    tf.keras.layers.Dense(16, activation = 'relu'),\n",
        "                                    tf.keras.layers.Dense(4, activation = 'relu'),\n",
        "                                    tf.keras.layers.Dense(1, activation = 'softmax')\n",
        "                                    ])"
      ],
      "execution_count": 0,
      "outputs": []
    },
    {
      "cell_type": "code",
      "metadata": {
        "id": "4T3RTEftxyNa",
        "colab_type": "code",
        "outputId": "f796b34b-1fe5-4efd-dca3-b897ef80f5f4",
        "colab": {
          "base_uri": "https://localhost:8080/",
          "height": 221
        }
      },
      "source": [
        "model.compile(optimizer='adam', loss='sparse_categorical_crossentropy', metrics=['accuracy'])\n",
        "model.fit(training_images_r, training_labels, epochs=5)"
      ],
      "execution_count": 112,
      "outputs": [
        {
          "output_type": "stream",
          "text": [
            "Train on 22 samples\n",
            "Epoch 1/5\n",
            "22/22 [==============================] - 0s 15ms/sample - loss: nan - acc: 0.2727\n",
            "Epoch 2/5\n",
            "22/22 [==============================] - 0s 1ms/sample - loss: nan - acc: 0.7273\n",
            "Epoch 3/5\n",
            "22/22 [==============================] - 0s 1ms/sample - loss: nan - acc: 0.7273\n",
            "Epoch 4/5\n",
            "22/22 [==============================] - 0s 1ms/sample - loss: nan - acc: 0.7273\n",
            "Epoch 5/5\n",
            "22/22 [==============================] - 0s 1ms/sample - loss: nan - acc: 0.7273\n"
          ],
          "name": "stdout"
        },
        {
          "output_type": "execute_result",
          "data": {
            "text/plain": [
              "<tensorflow.python.keras.callbacks.History at 0x7f735ebebc88>"
            ]
          },
          "metadata": {
            "tags": []
          },
          "execution_count": 112
        }
      ]
    },
    {
      "cell_type": "code",
      "metadata": {
        "id": "MLvqQVpJCL4B",
        "colab_type": "code",
        "colab": {
          "base_uri": "https://localhost:8080/",
          "height": 51
        },
        "outputId": "4da0d06c-4f14-48a1-83ad-5ea8c41db182"
      },
      "source": [
        "model.evaluate(validation_images_r, validation_labels)"
      ],
      "execution_count": 113,
      "outputs": [
        {
          "output_type": "stream",
          "text": [
            "\r20/20 [==============================] - 0s 13ms/sample - loss: nan - acc: 0.6000\n"
          ],
          "name": "stdout"
        },
        {
          "output_type": "execute_result",
          "data": {
            "text/plain": [
              "[nan, 0.6]"
            ]
          },
          "metadata": {
            "tags": []
          },
          "execution_count": 113
        }
      ]
    },
    {
      "cell_type": "code",
      "metadata": {
        "id": "KEoHMQgqk3k5",
        "colab_type": "code",
        "colab": {}
      },
      "source": [
        ""
      ],
      "execution_count": 0,
      "outputs": []
    }
  ]
}