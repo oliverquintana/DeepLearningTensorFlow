{
  "nbformat": 4,
  "nbformat_minor": 0,
  "metadata": {
    "colab": {
      "name": "VisionDNN.ipynb",
      "version": "0.3.2",
      "provenance": [],
      "collapsed_sections": [],
      "include_colab_link": true
    },
    "kernelspec": {
      "name": "python3",
      "display_name": "Python 3"
    }
  },
  "cells": [
    {
      "cell_type": "markdown",
      "metadata": {
        "id": "view-in-github",
        "colab_type": "text"
      },
      "source": [
        "<a href=\"https://colab.research.google.com/github/oliverquintana/Redes-Neuronales-con-TensorFlow/blob/master/VisionDNN.ipynb\" target=\"_parent\"><img src=\"https://colab.research.google.com/assets/colab-badge.svg\" alt=\"Open In Colab\"/></a>"
      ]
    },
    {
      "cell_type": "markdown",
      "metadata": {
        "id": "YF9pSrbfjQu5",
        "colab_type": "text"
      },
      "source": [
        "# Clasificación de imágenes con redes neuronales\n",
        "\n",
        "El dataset \"fashion_mnist\" consiste en 70,000 imágenes de ropa clasificada en 10 categorías.\\\n",
        "Cada imagen es de 28x28 pixeles en escala de grises"
      ]
    },
    {
      "cell_type": "markdown",
      "metadata": {
        "id": "kScXkyJmoLxa",
        "colab_type": "text"
      },
      "source": [
        "Importar las librerías necesarias."
      ]
    },
    {
      "cell_type": "code",
      "metadata": {
        "id": "4fQfB3GBVSl8",
        "colab_type": "code",
        "colab": {}
      },
      "source": [
        "import tensorflow as tf\n",
        "from tensorflow import keras"
      ],
      "execution_count": 0,
      "outputs": []
    },
    {
      "cell_type": "markdown",
      "metadata": {
        "id": "jQfUSqcZjkWF",
        "colab_type": "text"
      },
      "source": [
        "# Importar el dataset de imágenes\n",
        "El dataset está incluido en keras. \\\n",
        "Los datos son divididos en dos grupos:\n",
        "\n",
        "\n",
        "1.   Conjunto de entrenamiento (60,000 ejemplos)\n",
        "2.   Conjunto de validación (10,000 ejemplos)\n",
        "\n",
        "\n"
      ]
    },
    {
      "cell_type": "code",
      "metadata": {
        "id": "wm81J2e1VahB",
        "colab_type": "code",
        "colab": {
          "base_uri": "https://localhost:8080/",
          "height": 158
        },
        "outputId": "385f6cd1-2090-46df-884f-21443a15eb78"
      },
      "source": [
        "mnist = keras.datasets.fashion_mnist\n",
        "(train_images, train_labels), (test_images, test_labels) = mnist.load_data()"
      ],
      "execution_count": 2,
      "outputs": [
        {
          "output_type": "stream",
          "text": [
            "Downloading data from https://storage.googleapis.com/tensorflow/tf-keras-datasets/train-labels-idx1-ubyte.gz\n",
            "32768/29515 [=================================] - 0s 0us/step\n",
            "Downloading data from https://storage.googleapis.com/tensorflow/tf-keras-datasets/train-images-idx3-ubyte.gz\n",
            "26427392/26421880 [==============================] - 0s 0us/step\n",
            "Downloading data from https://storage.googleapis.com/tensorflow/tf-keras-datasets/t10k-labels-idx1-ubyte.gz\n",
            "8192/5148 [===============================================] - 0s 0us/step\n",
            "Downloading data from https://storage.googleapis.com/tensorflow/tf-keras-datasets/t10k-images-idx3-ubyte.gz\n",
            "4423680/4422102 [==============================] - 0s 0us/step\n"
          ],
          "name": "stdout"
        }
      ]
    },
    {
      "cell_type": "markdown",
      "metadata": {
        "id": "IwxVEbknkOq0",
        "colab_type": "text"
      },
      "source": [
        "Se importa la librería matplotlib para graficar las imágenes del dataset"
      ]
    },
    {
      "cell_type": "code",
      "metadata": {
        "id": "aka7eVHKV1FS",
        "colab_type": "code",
        "outputId": "52c3c2a5-0d3f-429b-fbdb-fe69f6f7d0fb",
        "colab": {
          "base_uri": "https://localhost:8080/",
          "height": 286
        }
      },
      "source": [
        "import matplotlib.pyplot as plt\n",
        "plt.imshow(train_images[0])\n",
        "print(\"Categoría: {}\".format(train_labels[0]))"
      ],
      "execution_count": 3,
      "outputs": [
        {
          "output_type": "stream",
          "text": [
            "Categoría: 9\n"
          ],
          "name": "stdout"
        },
        {
          "output_type": "display_data",
          "data": {
            "image/png": "[encoded data removed]",
            "text/plain": [
              "<Figure size 432x288 with 1 Axes>"
            ]
          },
          "metadata": {
            "tags": []
          }
        }
      ]
    },
    {
      "cell_type": "markdown",
      "metadata": {
        "id": "7WHMJDnxktye",
        "colab_type": "text"
      },
      "source": [
        "# Normalizar dataset\n",
        "Cada imagen consiste en pixeles con rango 0-255 por lo que es necesario normalizar los datos entre 0-1 para obtener mejores resultados de la red neuronal"
      ]
    },
    {
      "cell_type": "code",
      "metadata": {
        "id": "88LTcdw-X4TP",
        "colab_type": "code",
        "colab": {}
      },
      "source": [
        "train_images_normalized = train_images / 255\n",
        "test_images_normalized = test_images / 255"
      ],
      "execution_count": 0,
      "outputs": []
    },
    {
      "cell_type": "markdown",
      "metadata": {
        "id": "IIPHVFfolH51",
        "colab_type": "text"
      },
      "source": [
        "# Implementación de la red neuronal\n",
        "La red consiste de 3 capas:\n",
        "\n",
        "\n",
        "1.   Capa de entrada: Vector correspondiente a la imagen de entrada\n",
        "2.   Capa oculta: 128 neuronas.\n",
        "3.   Capa final: 10 neuronas correspondientes a las 10 categorías a clasificar.\n",
        "\n",
        "Donde:\n",
        "\n",
        "\n",
        "*   \"Flatten\": Convierte el array de la imagen 2D a 1D.\n",
        "*   \"relu\": Función de activación.\n",
        "*   \"softmax\": Selecciona la neurona de la capa final con el valor más alto, correspondiente a la probabilidad más alta en la que se clasifica la imagen.\n",
        "\n",
        "\n"
      ]
    },
    {
      "cell_type": "code",
      "metadata": {
        "id": "xYTnnfEycdDj",
        "colab_type": "code",
        "colab": {
          "base_uri": "https://localhost:8080/",
          "height": 107
        },
        "outputId": "1b57bcdb-b423-4876-cf25-f53cde12e0fa"
      },
      "source": [
        "model = keras.models.Sequential([keras.layers.Flatten(),\n",
        "                                 keras.layers.Dense(128, activation = tf.nn.relu),\n",
        "                                 keras.layers.Dense( 10, activation = tf.nn.softmax)])"
      ],
      "execution_count": 5,
      "outputs": [
        {
          "output_type": "stream",
          "text": [
            "WARNING: Logging before flag parsing goes to stderr.\n",
            "W0621 16:46:14.755890 140363377387392 deprecation.py:506] From /usr/local/lib/python3.6/dist-packages/tensorflow/python/ops/init_ops.py:1251: calling VarianceScaling.__init__ (from tensorflow.python.ops.init_ops) with dtype is deprecated and will be removed in a future version.\n",
            "Instructions for updating:\n",
            "Call initializer instance with the dtype argument instead of passing it to the constructor\n"
          ],
          "name": "stderr"
        }
      ]
    },
    {
      "cell_type": "markdown",
      "metadata": {
        "id": "h39xPbDnm0wm",
        "colab_type": "text"
      },
      "source": [
        "Clase para detener el entrenamiento al alcanzar un valor de pérdida selecionado:"
      ]
    },
    {
      "cell_type": "code",
      "metadata": {
        "id": "Bmr09Q2wgHuD",
        "colab_type": "code",
        "colab": {}
      },
      "source": [
        "class myCallback(tf.keras.callbacks.Callback):\n",
        "  def on_epoch_end(self, epoch, logs = {}):\n",
        "    if(logs.get(\"loss\") < 0.3):\n",
        "      print(\"\\nPérdida es baja, terminando entrenamiento\")\n",
        "      self.model.stop_training = True\n",
        "      \n",
        "callbacks = myCallback()"
      ],
      "execution_count": 0,
      "outputs": []
    },
    {
      "cell_type": "markdown",
      "metadata": {
        "id": "1RY_rdhqnBi-",
        "colab_type": "text"
      },
      "source": [
        "Entrenamiento de la red neuronal:"
      ]
    },
    {
      "cell_type": "code",
      "metadata": {
        "id": "vi7Mc2JadF5O",
        "colab_type": "code",
        "outputId": "4a7812ca-2ff5-4fb7-bde0-b34b15590d15",
        "colab": {
          "base_uri": "https://localhost:8080/",
          "height": 247
        }
      },
      "source": [
        "model.compile(optimizer = tf.train.AdamOptimizer(),\n",
        "              loss = \"sparse_categorical_crossentropy\",\n",
        "              metrics = [\"accuracy\"])\n",
        "\n",
        "model.fit(train_images_normalized, train_labels, epochs = 10, callbacks = [callbacks])"
      ],
      "execution_count": 7,
      "outputs": [
        {
          "output_type": "stream",
          "text": [
            "Epoch 1/10\n",
            "60000/60000 [==============================] - 5s 75us/sample - loss: 0.5021 - acc: 0.8239\n",
            "Epoch 2/10\n",
            "60000/60000 [==============================] - 4s 68us/sample - loss: 0.3816 - acc: 0.8621\n",
            "Epoch 3/10\n",
            "60000/60000 [==============================] - 4s 72us/sample - loss: 0.3378 - acc: 0.8784\n",
            "Epoch 4/10\n",
            "60000/60000 [==============================] - 4s 71us/sample - loss: 0.3138 - acc: 0.8846\n",
            "Epoch 5/10\n",
            "59616/60000 [============================>.] - ETA: 0s - loss: 0.2989 - acc: 0.8887\n",
            "Pérdida es baja, terminando entrenamiento\n",
            "60000/60000 [==============================] - 4s 68us/sample - loss: 0.2987 - acc: 0.8888\n"
          ],
          "name": "stdout"
        },
        {
          "output_type": "execute_result",
          "data": {
            "text/plain": [
              "<tensorflow.python.keras.callbacks.History at 0x7fa8aa917550>"
            ]
          },
          "metadata": {
            "tags": []
          },
          "execution_count": 7
        }
      ]
    },
    {
      "cell_type": "markdown",
      "metadata": {
        "id": "d_-RqOlTno16",
        "colab_type": "text"
      },
      "source": [
        "# Validación de la red neuronal\n",
        "Se comprueba la precisión de la clasificación con datos no vistos durante el entrenamiento (conjunto de prueba)."
      ]
    },
    {
      "cell_type": "code",
      "metadata": {
        "id": "uLYD5sFVdXPf",
        "colab_type": "code",
        "outputId": "c578b72a-440e-4964-dd03-5da5f084d384",
        "colab": {
          "base_uri": "https://localhost:8080/",
          "height": 52
        }
      },
      "source": [
        "model.evaluate(test_images_normalized, test_labels)"
      ],
      "execution_count": 8,
      "outputs": [
        {
          "output_type": "stream",
          "text": [
            "10000/10000 [==============================] - 0s 36us/sample - loss: 0.3559 - acc: 0.8710\n"
          ],
          "name": "stdout"
        },
        {
          "output_type": "execute_result",
          "data": {
            "text/plain": [
              "[0.35594406287670133, 0.871]"
            ]
          },
          "metadata": {
            "tags": []
          },
          "execution_count": 8
        }
      ]
    },
    {
      "cell_type": "markdown",
      "metadata": {
        "id": "ojyr5y9Mn7fo",
        "colab_type": "text"
      },
      "source": [
        "La pérdida, como es de esperarse, es mayor con datos no antes vistos por la red neuronal que con el conjunto de entrenamiento. No obstante, el resultado puede considerarse como bueno."
      ]
    },
    {
      "cell_type": "markdown",
      "metadata": {
        "id": "06YckBYkFEJH",
        "colab_type": "text"
      },
      "source": [
        "# Red Neuronal Clasificadora de Números Escritos a Mano\n",
        "\n",
        "El dataset mnist consta de ejemplos de números escritos a mano en imágenes de 28x28 pixeles etiquetados con su valor correspondiente divido en el conjunto de entrenamiento (60,000 ejemplos) y de validación (10,000 ejemplos)."
      ]
    },
    {
      "cell_type": "markdown",
      "metadata": {
        "id": "5gQuBK3KGxrM",
        "colab_type": "text"
      },
      "source": [
        "# Importar librerías"
      ]
    },
    {
      "cell_type": "code",
      "metadata": {
        "id": "nQFK4hBaFYyN",
        "colab_type": "code",
        "colab": {}
      },
      "source": [
        "import matplotlib.pyplot as plt\n",
        "import tensorflow as tf\n",
        "from tensorflow import keras"
      ],
      "execution_count": 0,
      "outputs": []
    },
    {
      "cell_type": "markdown",
      "metadata": {
        "id": "-mp8Ev_ZG3Fq",
        "colab_type": "text"
      },
      "source": [
        "# Importar y regularizar el dataset"
      ]
    },
    {
      "cell_type": "code",
      "metadata": {
        "id": "N9XcBdfUGPVI",
        "colab_type": "code",
        "outputId": "982ee633-7afe-4712-a750-df3e10adc092",
        "colab": {
          "base_uri": "https://localhost:8080/",
          "height": 322
        }
      },
      "source": [
        "mnist = tf.keras.datasets.mnist\n",
        "\n",
        "(x_train, y_train),(x_test, y_test) = mnist.load_data()\n",
        "x_train_reg = x_train / 255\n",
        "x_test_reg = x_test / 255\n",
        "\n",
        "plt.imshow(x_train[0])\n",
        "print(y_train[0])"
      ],
      "execution_count": 10,
      "outputs": [
        {
          "output_type": "stream",
          "text": [
            "Downloading data from https://storage.googleapis.com/tensorflow/tf-keras-datasets/mnist.npz\n",
            "11493376/11490434 [==============================] - 0s 0us/step\n",
            "5\n"
          ],
          "name": "stdout"
        },
        {
          "output_type": "display_data",
          "data": {
            "image/png": "[encoded data removed]",
            "text/plain": [
              "<Figure size 432x288 with 1 Axes>"
            ]
          },
          "metadata": {
            "tags": []
          }
        }
      ]
    },
    {
      "cell_type": "markdown",
      "metadata": {
        "id": "j9ujHXxfG-AZ",
        "colab_type": "text"
      },
      "source": [
        "# Entrenamiento de la red neuronal\n",
        "\n",
        "El entrenamiento se detiene al alcanzar un 99% de precisión en el conjunto de datos de entrenamiento."
      ]
    },
    {
      "cell_type": "code",
      "metadata": {
        "id": "H3Rec2QaGqcE",
        "colab_type": "code",
        "outputId": "88825a7f-a589-47b6-833a-3ca4e9a0f32a",
        "colab": {
          "base_uri": "https://localhost:8080/",
          "height": 318
        }
      },
      "source": [
        "model = tf.keras.models.Sequential([keras.layers.Flatten(input_shape = (28, 28)),\n",
        "                                    keras.layers.Dense(128, activation = tf.nn.relu),\n",
        "                                    keras.layers.Dense( 10, activation = tf.nn.softmax)])\n",
        "\n",
        "model.compile(optimizer='adam',\n",
        "              loss='sparse_categorical_crossentropy',\n",
        "              metrics=['accuracy'])\n",
        "\n",
        "class myCallback(tf.keras.callbacks.Callback):\n",
        "  def on_epoch_end(self, epoch, logs = {}):\n",
        "    if(logs.get(\"acc\") > 0.99):\n",
        "      print(\"\\n99% de precisión alcanzado, entrenamiento terminado\")\n",
        "      self.model.stop_training = True\n",
        "      \n",
        "callbacks = myCallback()\n",
        "\n",
        "model.fit(x_train_reg, y_train, epochs = 10, callbacks = [callbacks])"
      ],
      "execution_count": 11,
      "outputs": [
        {
          "output_type": "stream",
          "text": [
            "Epoch 1/10\n",
            "60000/60000 [==============================] - 4s 72us/sample - loss: 0.2538 - acc: 0.9265\n",
            "Epoch 2/10\n",
            "60000/60000 [==============================] - 4s 69us/sample - loss: 0.1128 - acc: 0.9673\n",
            "Epoch 3/10\n",
            "60000/60000 [==============================] - 4s 69us/sample - loss: 0.0773 - acc: 0.9764\n",
            "Epoch 4/10\n",
            "60000/60000 [==============================] - 4s 68us/sample - loss: 0.0584 - acc: 0.9819\n",
            "Epoch 5/10\n",
            "60000/60000 [==============================] - 4s 68us/sample - loss: 0.0453 - acc: 0.9861\n",
            "Epoch 6/10\n",
            "60000/60000 [==============================] - 4s 68us/sample - loss: 0.0340 - acc: 0.9893\n",
            "Epoch 7/10\n",
            "59584/60000 [============================>.] - ETA: 0s - loss: 0.0282 - acc: 0.9916\n",
            "99% de precisión alcanzado, entrenamiento terminado\n",
            "60000/60000 [==============================] - 4s 73us/sample - loss: 0.0282 - acc: 0.9916\n"
          ],
          "name": "stdout"
        },
        {
          "output_type": "execute_result",
          "data": {
            "text/plain": [
              "<tensorflow.python.keras.callbacks.History at 0x7fa8a5011d68>"
            ]
          },
          "metadata": {
            "tags": []
          },
          "execution_count": 11
        }
      ]
    },
    {
      "cell_type": "markdown",
      "metadata": {
        "id": "cUR-3mRmHHg_",
        "colab_type": "text"
      },
      "source": [
        "# Validación\n",
        "Prueba de precisión en predicción con el conjunto de datos de prueba."
      ]
    },
    {
      "cell_type": "code",
      "metadata": {
        "id": "y9b6M01kGu1V",
        "colab_type": "code",
        "outputId": "c87addbe-6230-4110-c228-c7b3714c5523",
        "colab": {
          "base_uri": "https://localhost:8080/",
          "height": 52
        }
      },
      "source": [
        "model.evaluate(x_test_reg, y_test)"
      ],
      "execution_count": 12,
      "outputs": [
        {
          "output_type": "stream",
          "text": [
            "10000/10000 [==============================] - 0s 39us/sample - loss: 0.0775 - acc: 0.9786\n"
          ],
          "name": "stdout"
        },
        {
          "output_type": "execute_result",
          "data": {
            "text/plain": [
              "[0.07749961241553538, 0.9786]"
            ]
          },
          "metadata": {
            "tags": []
          },
          "execution_count": 12
        }
      ]
    }
  ]
}