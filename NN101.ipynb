{
  "nbformat": 4,
  "nbformat_minor": 0,
  "metadata": {
    "colab": {
      "name": "NN101.ipynb",
      "version": "0.3.2",
      "provenance": [],
      "collapsed_sections": [],
      "toc_visible": true,
      "include_colab_link": true
    },
    "kernelspec": {
      "name": "python3",
      "display_name": "Python 3"
    }
  },
  "cells": [
    {
      "cell_type": "markdown",
      "metadata": {
        "id": "view-in-github",
        "colab_type": "text"
      },
      "source": [
        "<a href=\"https://colab.research.google.com/github/oliverquintana/Redes-Neuronales-con-TensorFlow/blob/master/NN101.ipynb\" target=\"_parent\"><img src=\"https://colab.research.google.com/assets/colab-badge.svg\" alt=\"Open In Colab\"/></a>"
      ]
    },
    {
      "cell_type": "markdown",
      "metadata": {
        "id": "m94cysT4yasd",
        "colab_type": "text"
      },
      "source": [
        "# Redes Neuronales 101\n",
        "\n",
        "A continuación se implementa una red neuronal de una capa y una neurona para predecir el modelo y = 2x - 1 utilizando la librería TensorFlow"
      ]
    },
    {
      "cell_type": "markdown",
      "metadata": {
        "id": "9aB0NGJZE9St",
        "colab_type": "text"
      },
      "source": [
        "# Importar las librerías  necesarias\n",
        "\n",
        "\n",
        "\n",
        "*   Tensorflow\n",
        "*   Numpy\n",
        "\n"
      ]
    },
    {
      "cell_type": "code",
      "metadata": {
        "id": "CtaG3EnRD2eA",
        "colab_type": "code",
        "colab": {}
      },
      "source": [
        "import tensorflow\n",
        "import numpy as np\n",
        "from tensorflow import keras"
      ],
      "execution_count": 0,
      "outputs": []
    },
    {
      "cell_type": "markdown",
      "metadata": {
        "id": "fPQplt5_FQk4",
        "colab_type": "text"
      },
      "source": [
        "# Crear la red neuronal\n",
        "\n",
        "Se define mediante keras de la siguiente manera:\n",
        "*   1 neurona\n",
        "*   1 capa\n",
        "\n",
        "Para compilar la red neuronal se definen las siguientes características:\n",
        "\n",
        "\n",
        "1.   Optimizador: Descenso del gradiente estocástico\n",
        "2.   Función de pérdida: Error cuadrático medio\n",
        "\n",
        "\n",
        "\n",
        "\n"
      ]
    },
    {
      "cell_type": "code",
      "metadata": {
        "id": "ZznZlNjBEEvY",
        "colab_type": "code",
        "colab": {}
      },
      "source": [
        "model = keras.Sequential([keras.layers.Dense(units = 1, input_shape = [1])])\n",
        "model.compile(optimizer = 'sgd', loss = \"mean_squared_error\")"
      ],
      "execution_count": 0,
      "outputs": []
    },
    {
      "cell_type": "markdown",
      "metadata": {
        "id": "Ae-RpteJFe9m",
        "colab_type": "text"
      },
      "source": [
        "# Ingresar los datos de entrenamiento\n",
        "\n",
        "La relación entre los datos es y = 2x - 1\n",
        "\n"
      ]
    },
    {
      "cell_type": "code",
      "metadata": {
        "id": "5oEfB5r7Ee1G",
        "colab_type": "code",
        "colab": {}
      },
      "source": [
        "xs = np.array([-1.0, 0.0, 1.0, 2.0, 3.0, 4.0], dtype = float)\n",
        "ys = np.array([-3.0, -1.0, 1.0, 3.0, 5.0, 7.0], dtype = float)"
      ],
      "execution_count": 0,
      "outputs": []
    },
    {
      "cell_type": "markdown",
      "metadata": {
        "id": "8AuVAJ7rFp65",
        "colab_type": "text"
      },
      "source": [
        "# Entrenamiento del modelo\n",
        "\n",
        "500 iteraciones a partir de los datos en Xs y Ys"
      ]
    },
    {
      "cell_type": "code",
      "metadata": {
        "id": "sHaiIsMRE0Sy",
        "colab_type": "code",
        "colab": {}
      },
      "source": [
        "model.fit(xs, ys, epochs = 500)"
      ],
      "execution_count": 0,
      "outputs": []
    },
    {
      "cell_type": "markdown",
      "metadata": {
        "id": "2szX4TS8F7qF",
        "colab_type": "text"
      },
      "source": [
        "# Generar predicciones\n",
        "\n",
        "Al ingresar x = 10.0, se espera que el modelo realice la predicción de y = 19 pero esto no sucede debido a que es necesario tener más datos de entrenamiento, 6 puntos no son suficientes para obtener el resultado exacto de la función esperada."
      ]
    },
    {
      "cell_type": "code",
      "metadata": {
        "id": "7Bz4ae4sE5NS",
        "colab_type": "code",
        "colab": {}
      },
      "source": [
        "print(model.predict([10.0]))"
      ],
      "execution_count": 0,
      "outputs": []
    },
    {
      "cell_type": "markdown",
      "metadata": {
        "colab_type": "text",
        "id": "PHp4uUm1vf4W"
      },
      "source": [
        "# Predecir el valor de una casa a partir del número de habitaciones\n",
        "\n",
        "Suponiendo que una casa cuesta 50k más 50k por habitación, entonces una casa con una habitación cuesta 100k, con dos 150k, etc. Predecir el valor de una casa con 7 habitaciones (Obtener el resultado de la forma 1, 2, 3 para 1k, 2k, 3k), esperando un resultado aproximado de 4 (4k)."
      ]
    },
    {
      "cell_type": "code",
      "metadata": {
        "id": "OBMmBk8AumAi",
        "colab_type": "code",
        "colab": {}
      },
      "source": [
        "#import tensorflow as tf\n",
        "#import numpy as np\n",
        "#from tensorflow import keras\n",
        "\n",
        "model_2 = keras.Sequential([keras.layers.Dense(units = 1, input_shape = [1])]) # Crear red neuronal\n",
        "model_2.compile(optimizer = \"sgd\", loss = \"mean_squared_error\") # Compilar red neuronal\n",
        "\n",
        "xs = np.array([1.0, 2.0, 3.0, 4.0, 5.0, 6.0]) # Número de habitaciones\n",
        "ys = np.array([1.0, 1.5, 2.0, 2.5, 3.0, 3.5]) # Costo de la casa\n",
        "\n",
        "model_2.fit(xs, ys, epochs = 500) # Entrenar el model\n",
        "\n",
        "print(\"Predicción para una casa con 7 habitaciones: {}\".format(model_2.predict([7.0]))) # Realizar predicción"
      ],
      "execution_count": 0,
      "outputs": []
    }
  ]
}